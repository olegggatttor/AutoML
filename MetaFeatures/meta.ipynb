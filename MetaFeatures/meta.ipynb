{
 "cells": [
  {
   "cell_type": "code",
   "execution_count": 71,
   "metadata": {
    "collapsed": true
   },
   "outputs": [],
   "source": [
    "from sklearn.pipeline import Pipeline\n",
    "from sklearn.preprocessing import StandardScaler\n",
    "from sklearn.svm import SVC\n",
    "from tqdm import tqdm\n",
    "import numpy as np\n",
    "import pandas as pd\n",
    "import sklearn\n",
    "from sklearn.tree import DecisionTreeClassifier\n",
    "from sklearn.ensemble import GradientBoostingClassifier\n",
    "from sklearn.linear_model import LogisticRegressionCV\n",
    "from sklearn.neighbors import KNeighborsClassifier\n",
    "from scipy.io.arff import loadarff\n",
    "import scipy.stats as stats\n",
    "import matplotlib.pyplot as plt\n",
    "import seaborn as sns\n",
    "import warnings\n",
    "from sklearn.model_selection import cross_val_score, StratifiedKFold, train_test_split\n",
    "from sklearn.exceptions import ConvergenceWarning\n",
    "\n",
    "warnings.filterwarnings(action='ignore', category=ConvergenceWarning)\n",
    "\n",
    "np.random.seed(0)"
   ]
  },
  {
   "cell_type": "code",
   "execution_count": 2,
   "outputs": [
    {
     "data": {
      "text/plain": "     id          name   length       target\n0    10         lymph    22513        class\n1  1000   hypothyroid   276707  binaryClass\n2  1001        sponge    41487  binaryClass\n3  1002  ipumslasmall  2622855  binaryClass\n4  1003  primarytumor    22769  binaryClass",
      "text/html": "<div>\n<style scoped>\n    .dataframe tbody tr th:only-of-type {\n        vertical-align: middle;\n    }\n\n    .dataframe tbody tr th {\n        vertical-align: top;\n    }\n\n    .dataframe thead th {\n        text-align: right;\n    }\n</style>\n<table border=\"1\" class=\"dataframe\">\n  <thead>\n    <tr style=\"text-align: right;\">\n      <th></th>\n      <th>id</th>\n      <th>name</th>\n      <th>length</th>\n      <th>target</th>\n    </tr>\n  </thead>\n  <tbody>\n    <tr>\n      <th>0</th>\n      <td>10</td>\n      <td>lymph</td>\n      <td>22513</td>\n      <td>class</td>\n    </tr>\n    <tr>\n      <th>1</th>\n      <td>1000</td>\n      <td>hypothyroid</td>\n      <td>276707</td>\n      <td>binaryClass</td>\n    </tr>\n    <tr>\n      <th>2</th>\n      <td>1001</td>\n      <td>sponge</td>\n      <td>41487</td>\n      <td>binaryClass</td>\n    </tr>\n    <tr>\n      <th>3</th>\n      <td>1002</td>\n      <td>ipumslasmall</td>\n      <td>2622855</td>\n      <td>binaryClass</td>\n    </tr>\n    <tr>\n      <th>4</th>\n      <td>1003</td>\n      <td>primarytumor</td>\n      <td>22769</td>\n      <td>binaryClass</td>\n    </tr>\n  </tbody>\n</table>\n</div>"
     },
     "execution_count": 2,
     "metadata": {},
     "output_type": "execute_result"
    }
   ],
   "source": [
    "datasets_df = pd.read_csv('OpenML/data.csv')\n",
    "datasets_df.head()"
   ],
   "metadata": {
    "collapsed": false,
    "pycharm": {
     "name": "#%%\n"
    }
   }
  },
  {
   "cell_type": "code",
   "execution_count": 3,
   "outputs": [
    {
     "data": {
      "text/plain": "binaryClass                 305\nclass                       195\nClass                       131\nTissue                       45\noz1143                       22\n                           ... \nActivity                      1\noz252                         1\noz629                         1\noz54                          1\nWho_Pays_for_Access_Work      1\nName: target, Length: 264, dtype: int64"
     },
     "execution_count": 3,
     "metadata": {},
     "output_type": "execute_result"
    }
   ],
   "source": [
    "datasets_df.target.value_counts()"
   ],
   "metadata": {
    "collapsed": false,
    "pycharm": {
     "name": "#%%\n"
    }
   }
  },
  {
   "cell_type": "code",
   "execution_count": 4,
   "outputs": [
    {
     "data": {
      "text/plain": "631"
     },
     "execution_count": 4,
     "metadata": {},
     "output_type": "execute_result"
    }
   ],
   "source": [
    "datasets_df = datasets_df[datasets_df.target.isin(['binaryClass', 'class', 'Class'])]\n",
    "len(datasets_df)"
   ],
   "metadata": {
    "collapsed": false,
    "pycharm": {
     "name": "#%%\n"
    }
   }
  },
  {
   "cell_type": "code",
   "execution_count": 93,
   "outputs": [],
   "source": [
    "def mk_basic_features(xs, ys):\n",
    "    assert len(xs) == len(ys)\n",
    "    num_instances = xs.shape[0]\n",
    "    num_features = xs.shape[1]\n",
    "    num_numeric_features = xs.select_dtypes(include=[np.number]).shape[1]\n",
    "    num_cat_features = num_features - num_numeric_features\n",
    "    freq_numeric_features = num_numeric_features / num_features\n",
    "    freq_cat_features = num_cat_features / num_features\n",
    "    num_classes = ys.nunique()\n",
    "    return {\n",
    "        'num_instances': num_instances,\n",
    "        'num_features': num_features,\n",
    "        'freq_numeric_features': freq_numeric_features,\n",
    "        'freq_cat_features': freq_cat_features,\n",
    "        'num_classes': num_classes\n",
    "    }"
   ],
   "metadata": {
    "collapsed": false,
    "pycharm": {
     "name": "#%%\n"
    }
   }
  },
  {
   "cell_type": "code",
   "execution_count": 94,
   "outputs": [],
   "source": [
    "def mk_statistical_features(xs, prefix='base__', need_floats=True, need_cats=True):\n",
    "    agg_functions = [np.min, np.max, np.mean, np.std, np.var, np.median, stats.skew, stats.kurtosis]\n",
    "    def mk_floats():\n",
    "        agg_features = xs.select_dtypes(include=[np.number])\n",
    "        res = {}\n",
    "        for f1 in agg_functions:\n",
    "            for f2 in agg_functions:\n",
    "                if len(agg_features.columns) == 0:\n",
    "                    res[f'{prefix}{f1.__name__}__{f2.__name__}'] = 0.0\n",
    "                else:\n",
    "                    conv1 = np.round(f1(agg_features, axis=1), 5)\n",
    "                    conv2 = np.round(f2(conv1), 5)\n",
    "                    res[f'{prefix}{f1.__name__}__{f2.__name__}'] = conv2\n",
    "        return res\n",
    "\n",
    "    def mk_cats():\n",
    "        agg_features = xs.select_dtypes(exclude=[np.number])\n",
    "        entropies = []\n",
    "        res = {}\n",
    "        for col in agg_features.columns:\n",
    "            entropies.append(stats.entropy(agg_features[col].value_counts(normalize=True), base=2))\n",
    "        for f in agg_functions:\n",
    "            if len(entropies) == 0:\n",
    "                res[f'{prefix}cat_entropy__{f.__name__}'] = 0.0\n",
    "            else:\n",
    "                res[f'{prefix}cat_entropy__{f.__name__}'] = np.round(np.round(f(entropies), 5), 5)\n",
    "        return res\n",
    "\n",
    "    return {**(mk_floats() if need_floats else {}), **(mk_cats() if need_cats else {})}"
   ],
   "metadata": {
    "collapsed": false,
    "pycharm": {
     "name": "#%%\n"
    }
   }
  },
  {
   "cell_type": "code",
   "execution_count": 95,
   "outputs": [],
   "source": [
    "def encode_and_bind(df, feature_to_encode):\n",
    "    dummies = pd.get_dummies(df[feature_to_encode].apply(lambda x: feature_to_encode + '_' + x.decode(\"utf-8\")))\n",
    "    res = pd.concat([df, dummies], axis=1)\n",
    "    return res.drop(feature_to_encode, axis=1)\n",
    "\n",
    "def mk_structural_features(xs, ys):\n",
    "    def mk_svc(X, y):\n",
    "        clf = SVC()\n",
    "        clf.fit(X, y)\n",
    "        all_coefs = pd.DataFrame(np.round(clf.dual_coef_, 4))\n",
    "        return {**mk_statistical_features(all_coefs, need_cats=False, prefix='svm__'),\n",
    "                'score__svm_clf': np.round(clf.score(X, y), 3)}\n",
    "\n",
    "    data = xs.copy()\n",
    "    cat_data = data.select_dtypes(exclude=[np.number])\n",
    "    for cat_name in cat_data.columns:\n",
    "        data = encode_and_bind(data, cat_name)\n",
    "\n",
    "    dt_res = {}# mk_decision_tree(data, ys)\n",
    "\n",
    "    scaler = sklearn.preprocessing.StandardScaler()\n",
    "    scaled = scaler.fit_transform(data)\n",
    "\n",
    "    logreg_res = mk_svc(scaled, ys)\n",
    "\n",
    "    return {**dt_res, **logreg_res}"
   ],
   "metadata": {
    "collapsed": false,
    "pycharm": {
     "name": "#%%\n"
    }
   }
  },
  {
   "cell_type": "code",
   "execution_count": 96,
   "outputs": [],
   "source": [
    "def get_label(X, y):\n",
    "    algorithms = [\n",
    "        DecisionTreeClassifier(),\n",
    "        LogisticRegressionCV(),\n",
    "        GradientBoostingClassifier()\n",
    "    ]\n",
    "\n",
    "    names = ['DT', 'LogReg', 'GBDT']\n",
    "\n",
    "    data = X.copy()\n",
    "    cat_data = data.select_dtypes(exclude=[np.number])\n",
    "    for cat_name in cat_data.columns:\n",
    "        data = encode_and_bind(data, cat_name)\n",
    "\n",
    "    X_train, X_test, y_train, y_test = sklearn.model_selection.train_test_split(data, y, test_size=0.2, random_state=123)\n",
    "    scores = []\n",
    "    for algo in algorithms:\n",
    "        algo.fit(X_train, y_train)\n",
    "        acc = algo.score(X_test, y_test)\n",
    "        scores.append(acc)\n",
    "    return names[np.argmax(scores)]"
   ],
   "metadata": {
    "collapsed": false,
    "pycharm": {
     "name": "#%%\n"
    }
   }
  },
  {
   "cell_type": "code",
   "execution_count": 97,
   "outputs": [
    {
     "name": "stderr",
     "output_type": "stream",
     "text": [
      "631it [06:43,  1.56it/s]\n"
     ]
    }
   ],
   "source": [
    "meta_dataset = pd.DataFrame()\n",
    "label_encoder = sklearn.preprocessing.LabelEncoder()\n",
    "for i, row in tqdm(datasets_df.iterrows()):\n",
    "    try:\n",
    "        with open(f'OpenML/data/{row.id}.arff') as f:\n",
    "            df = pd.DataFrame(loadarff(f)[0])\n",
    "    except FileNotFoundError:\n",
    "        continue\n",
    "    except ValueError:\n",
    "        continue\n",
    "\n",
    "    X = df.drop(row.target, axis=1)\n",
    "    X = X.fillna(0)\n",
    "    y = pd.Series(label_encoder.fit_transform(df[row.target]))\n",
    "\n",
    "    check_sizes = y.value_counts()\n",
    "    if (check_sizes < 10).any():\n",
    "        continue\n",
    "\n",
    "    basic_features = mk_basic_features(X, y)\n",
    "    statistical_features = mk_statistical_features(X)\n",
    "    structural_features = mk_structural_features(X, y)\n",
    "\n",
    "\n",
    "    label = get_label(X, y)\n",
    "\n",
    "    meta_dataset = meta_dataset.append({\n",
    "        **basic_features,\n",
    "        **statistical_features,\n",
    "        **structural_features,\n",
    "        'target': label\n",
    "    }, ignore_index=True)"
   ],
   "metadata": {
    "collapsed": false,
    "pycharm": {
     "name": "#%%\n"
    }
   }
  },
  {
   "cell_type": "code",
   "execution_count": 98,
   "outputs": [
    {
     "data": {
      "text/plain": "GBDT      115\nLogReg    109\nDT         97\nName: target, dtype: int64"
     },
     "execution_count": 98,
     "metadata": {},
     "output_type": "execute_result"
    }
   ],
   "source": [
    "meta_dataset.target.value_counts()"
   ],
   "metadata": {
    "collapsed": false,
    "pycharm": {
     "name": "#%%\n"
    }
   }
  },
  {
   "cell_type": "code",
   "execution_count": 99,
   "outputs": [],
   "source": [
    "example_id = 10\n",
    "with open(f'OpenML/data/{example_id}.arff') as f:\n",
    "    example_df = pd.DataFrame(loadarff(f)[0])"
   ],
   "metadata": {
    "collapsed": false,
    "pycharm": {
     "name": "#%%\n"
    }
   }
  },
  {
   "cell_type": "code",
   "execution_count": 100,
   "outputs": [
    {
     "data": {
      "text/plain": "True"
     },
     "execution_count": 100,
     "metadata": {},
     "output_type": "execute_result"
    }
   ],
   "source": [
    "tgt = datasets_df.loc[datasets_df.id == example_id].target[0]\n",
    "X = example_df.drop(tgt, axis=1)\n",
    "X = X.fillna(0)\n",
    "y = pd.Series(label_encoder.fit_transform(example_df[tgt]))\n",
    "\n",
    "features_non_shuffle = {\n",
    "    **mk_basic_features(X, y),\n",
    "    **mk_statistical_features(X),\n",
    "    # **mk_structural_features(X, y)\n",
    "}\n",
    "\n",
    "example_df = example_df.reindex(np.random.permutation(example_df.index))\n",
    "example_df = example_df[np.random.permutation(example_df.columns)]\n",
    "\n",
    "X = example_df.drop(tgt, axis=1)\n",
    "X = X.fillna(0)\n",
    "y = pd.Series(label_encoder.fit_transform(example_df[tgt]))\n",
    "\n",
    "features_shuffle = {\n",
    "    **mk_basic_features(X, y),\n",
    "    **mk_statistical_features(X),\n",
    "    # **mk_structural_features(X, y)\n",
    "}\n",
    "\n",
    "features_shuffle == features_non_shuffle\n"
   ],
   "metadata": {
    "collapsed": false,
    "pycharm": {
     "name": "#%%\n"
    }
   }
  },
  {
   "cell_type": "code",
   "execution_count": 101,
   "outputs": [],
   "source": [
    "import umap\n",
    "\n",
    "reducer = umap.UMAP()"
   ],
   "metadata": {
    "collapsed": false,
    "pycharm": {
     "name": "#%%\n"
    }
   }
  },
  {
   "cell_type": "code",
   "execution_count": 102,
   "outputs": [],
   "source": [
    "X, y = meta_dataset.drop('target', axis=1), meta_dataset.target"
   ],
   "metadata": {
    "collapsed": false,
    "pycharm": {
     "name": "#%%\n"
    }
   }
  },
  {
   "cell_type": "code",
   "execution_count": 103,
   "outputs": [
    {
     "name": "stderr",
     "output_type": "stream",
     "text": [
      "OMP: Info #276: omp_set_nested routine deprecated, please use omp_set_max_active_levels instead.\n"
     ]
    },
    {
     "data": {
      "text/plain": "(321, 2)"
     },
     "execution_count": 103,
     "metadata": {},
     "output_type": "execute_result"
    }
   ],
   "source": [
    "embeddings = reducer.fit_transform(StandardScaler().fit_transform(X))\n",
    "embeddings.shape"
   ],
   "metadata": {
    "collapsed": false,
    "pycharm": {
     "name": "#%%\n"
    }
   }
  },
  {
   "cell_type": "code",
   "execution_count": 104,
   "outputs": [
    {
     "data": {
      "text/plain": "<Figure size 432x288 with 1 Axes>",
      "image/png": "[encoded data removed]"
     },
     "metadata": {
      "needs_background": "light"
     },
     "output_type": "display_data"
    }
   ],
   "source": [
    "for k, v in {\"DT\":0, \"LogReg\":1, \"GBDT\":2}.items():\n",
    "    plt.scatter(\n",
    "    embeddings[:, 0][y == k],\n",
    "    embeddings[:, 1][y == k],\n",
    "    c=[sns.color_palette()[v]], label=k)\n",
    "plt.legend()\n",
    "plt.gca().set_aspect('equal', 'datalim')\n",
    "plt.title('UMAP projection', fontsize=24);"
   ],
   "metadata": {
    "collapsed": false,
    "pycharm": {
     "name": "#%%\n"
    }
   }
  },
  {
   "cell_type": "code",
   "execution_count": 105,
   "outputs": [],
   "source": [
    "y_encoded = label_encoder.fit_transform(y)"
   ],
   "metadata": {
    "collapsed": false,
    "pycharm": {
     "name": "#%%\n"
    }
   }
  },
  {
   "cell_type": "code",
   "execution_count": 106,
   "outputs": [],
   "source": [
    "class NaivePredictor:\n",
    "    def __init__(self):\n",
    "        self.ans = 0\n",
    "\n",
    "    def fit(self, _, y):\n",
    "        self.ans = pd.Series(y).value_counts().argmax()\n",
    "\n",
    "    def score(self, _, y_true):\n",
    "        from sklearn.metrics import accuracy_score\n",
    "        return accuracy_score(y_true, np.full(y_true.shape, self.ans))\n",
    "\n",
    "    def predict(self, X):\n",
    "        return np.full(X.shape[0], self.ans)"
   ],
   "metadata": {
    "collapsed": false,
    "pycharm": {
     "name": "#%%\n"
    }
   }
  },
  {
   "cell_type": "code",
   "execution_count": 109,
   "outputs": [
    {
     "name": "stdout",
     "output_type": "stream",
     "text": [
      "DT (max_depth=4): score - 0.45471153846153844 | std - 0.042064038334495624\n",
      "DT (max_depth=8): score - 0.4922115384615385 | std - 0.03630925069993228\n",
      "LogReg (max_iter=100): score - 0.4705769230769231 | std - 0.05115678309961047\n",
      "LogReg (max_iter=1000): score - 0.5046634615384615 | std - 0.0361724456044365\n",
      "GBDT (lr=0.01, n=500): score - 0.5298076923076923 | std - 0.0624463527153958\n",
      "GBDT (lr=0.1, n=200): score - 0.5452884615384616 | std - 0.020054820393260012\n",
      "KNN (n=5): score - 0.5201923076923076 | std - 0.027695395794695765\n",
      "KNN (n=10): score - 0.4891346153846154 | std - 0.029450951476979622\n",
      "NaivePredictor: score - 0.3021634615384615 | std - 0.006653054088027911\n"
     ]
    }
   ],
   "source": [
    "algorithms = [\n",
    "        DecisionTreeClassifier(max_depth=4),\n",
    "        DecisionTreeClassifier(max_depth=8),\n",
    "        LogisticRegressionCV(max_iter=100),\n",
    "        LogisticRegressionCV(max_iter=1000),\n",
    "        GradientBoostingClassifier(learning_rate=0.01, n_estimators=500),\n",
    "        GradientBoostingClassifier(learning_rate=0.1, n_estimators=200),\n",
    "        KNeighborsClassifier(n_neighbors=5),\n",
    "        KNeighborsClassifier(n_neighbors=10),\n",
    "        NaivePredictor()\n",
    "    ]\n",
    "descriptions = ['DT (max_depth=4)',\n",
    "                'DT (max_depth=8)',\n",
    "                'LogReg (max_iter=100)',\n",
    "                'LogReg (max_iter=1000)',\n",
    "                'GBDT (lr=0.01, n=500)',\n",
    "                'GBDT (lr=0.1, n=200)',\n",
    "                'KNN (n=5)',\n",
    "                'KNN (n=10)',\n",
    "                'NaivePredictor']\n",
    "results = []\n",
    "for name, algo in zip(descriptions, algorithms):\n",
    "    pipeline = Pipeline([('transformer', StandardScaler()), ('estimator', algo)])\n",
    "    skf = StratifiedKFold(n_splits=5, shuffle=True)\n",
    "    scores = cross_val_score(pipeline, X, y_encoded, cv=skf)\n",
    "    results.append(scores.mean())\n",
    "    print(f'{name}: score - {scores.mean()} | std - {scores.std()}')"
   ],
   "metadata": {
    "collapsed": false,
    "pycharm": {
     "name": "#%%\n"
    }
   }
  },
  {
   "cell_type": "code",
   "execution_count": 110,
   "outputs": [
    {
     "data": {
      "text/plain": "<Figure size 432x288 with 2 Axes>",
      "image/png": "[encoded data removed]"
     },
     "metadata": {
      "needs_background": "light"
     },
     "output_type": "display_data"
    }
   ],
   "source": [
    "best_idx = np.argmax(results)\n",
    "pipeline = Pipeline([('transformer', StandardScaler()), ('estimator', algorithms[best_idx])])\n",
    "X_train, X_test, y_train, y_test = train_test_split(X, y_encoded, test_size=0.2,\n",
    "                                                     random_state=12, stratify=y_encoded)\n",
    "pipeline.fit(X_train, y_train)\n",
    "sklearn.metrics.ConfusionMatrixDisplay.from_estimator(pipeline, X_test, y_test,\n",
    "                                                      display_labels=label_encoder.classes_)\n",
    "plt.title(descriptions[best_idx])\n",
    "plt.show()"
   ],
   "metadata": {
    "collapsed": false,
    "pycharm": {
     "name": "#%%\n"
    }
   }
  },
  {
   "cell_type": "code",
   "execution_count": null,
   "outputs": [],
   "source": [],
   "metadata": {
    "collapsed": false,
    "pycharm": {
     "name": "#%%\n"
    }
   }
  }
 ],
 "metadata": {
  "kernelspec": {
   "display_name": "Python 3",
   "language": "python",
   "name": "python3"
  },
  "language_info": {
   "codemirror_mode": {
    "name": "ipython",
    "version": 2
   },
   "file_extension": ".py",
   "mimetype": "text/x-python",
   "name": "python",
   "nbconvert_exporter": "python",
   "pygments_lexer": "ipython2",
   "version": "2.7.6"
  }
 },
 "nbformat": 4,
 "nbformat_minor": 0
}